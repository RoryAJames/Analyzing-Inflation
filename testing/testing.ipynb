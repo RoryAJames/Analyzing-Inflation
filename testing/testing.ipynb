{
 "cells": [
  {
   "cell_type": "code",
   "execution_count": null,
   "metadata": {},
   "outputs": [],
   "source": [
    "import pandas as pd\n",
    "import pandas as pdr\n",
    "import quandl as qd\n",
    "import numpy as np\n",
    "import statsmodels as sm\n"
   ]
  }
 ],
 "metadata": {
  "kernelspec": {
   "display_name": "portfolio_analysis",
   "language": "python",
   "name": "python3"
  },
  "language_info": {
   "name": "python",
   "version": "3.10.5 | packaged by conda-forge | (main, Jun 14 2022, 06:57:50) [MSC v.1929 64 bit (AMD64)]"
  },
  "orig_nbformat": 4,
  "vscode": {
   "interpreter": {
    "hash": "2a985480707b90bde6197324fcd0bbad9509dc0104d25d5d8b9ef18972ba5f48"
   }
  }
 },
 "nbformat": 4,
 "nbformat_minor": 2
}
